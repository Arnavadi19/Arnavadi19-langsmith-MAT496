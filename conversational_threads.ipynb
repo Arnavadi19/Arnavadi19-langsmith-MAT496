{
 "cells": [
  {
   "cell_type": "markdown",
   "metadata": {},
   "source": [
    "# Conversational Threads"
   ]
  },
  {
   "cell_type": "markdown",
   "metadata": {},
   "source": [
    "Many LLM applications have a chatbot-like interface in which the user and the LLM application engage in a multi-turn conversation. In order to track these conversations, you can use the Threads feature in LangSmith.\n",
    "\n",
    "This is relevant to our RAG application, which should maintain context from prior conversations with users."
   ]
  },
  {
   "cell_type": "markdown",
   "metadata": {},
   "source": [
    "### Setup"
   ]
  },
  {
   "cell_type": "code",
   "execution_count": 1,
   "metadata": {},
   "outputs": [],
   "source": [
    "# You can set them inline\n",
    "import os\n",
    "os.environ[\"OPENAI_API_KEY\"] = \"\"\n",
    "os.environ[\"LANGSMITH_API_KEY\"] = \"\"\n",
    "os.environ[\"LANGSMITH_TRACING\"] = \"true\"\n",
    "os.environ[\"LANGSMITH_PROJECT\"] = \"langsmith-academy\"  # If you don't set this, traces will go to the Default project"
   ]
  },
  {
   "cell_type": "code",
   "execution_count": 2,
   "metadata": {},
   "outputs": [
    {
     "data": {
      "text/plain": [
       "True"
      ]
     },
     "execution_count": 2,
     "metadata": {},
     "output_type": "execute_result"
    }
   ],
   "source": [
    "# Or you can use a .env file\n",
    "from dotenv import load_dotenv\n",
    "load_dotenv(dotenv_path=r\".env\", override=True)"
   ]
  },
  {
   "cell_type": "markdown",
   "metadata": {},
   "source": [
    "### Group traces into threads\n"
   ]
  },
  {
   "cell_type": "markdown",
   "metadata": {},
   "source": [
    "A Thread is a sequence of traces representing a single conversation. Each response is represented as its own trace, but these traces are linked together by being part of the same thread.\n",
    "\n",
    "To associate traces together, you need to pass in a special metadata key where the value is the unique identifier for that thread.\n",
    "\n",
    "The key value is the unique identifier for that conversation. The key name should be one of:\n",
    "\n",
    "- session_id\n",
    "- thread_id\n",
    "- conversation_id.\n",
    "\n",
    "The value should be a UUID."
   ]
  },
  {
   "cell_type": "code",
   "execution_count": 3,
   "metadata": {},
   "outputs": [],
   "source": [
    "import uuid\n",
    "thread_id = uuid.uuid4()"
   ]
  },
  {
   "cell_type": "code",
   "execution_count": 4,
   "metadata": {},
   "outputs": [
    {
     "name": "stderr",
     "output_type": "stream",
     "text": [
      "USER_AGENT environment variable not set, consider setting it to identify your requests.\n"
     ]
    }
   ],
   "source": [
    "from langsmith import traceable\n",
    "from openai import OpenAI\n",
    "from typing import List\n",
    "import nest_asyncio\n",
    "from utils import get_vector_db_retriever\n",
    "\n",
    "openai_client = OpenAI()\n",
    "nest_asyncio.apply()\n",
    "retriever = get_vector_db_retriever()\n",
    "\n",
    "@traceable(run_type=\"chain\")\n",
    "def retrieve_documents(question: str):\n",
    "    return retriever.invoke(question)\n",
    "\n",
    "@traceable(run_type=\"chain\")\n",
    "def generate_response(question: str, documents):\n",
    "    formatted_docs = \"\\n\\n\".join(doc.page_content for doc in documents)\n",
    "    rag_system_prompt = \"\"\"You are an assistant for question-answering tasks. \n",
    "    Use the following pieces of retrieved context to answer the latest question in the conversation. \n",
    "    If you don't know the answer, just say that you don't know. \n",
    "    Use three sentences maximum and keep the answer concise.\n",
    "    \"\"\"\n",
    "    messages = [\n",
    "        {\n",
    "            \"role\": \"system\",\n",
    "            \"content\": rag_system_prompt\n",
    "        },\n",
    "        {\n",
    "            \"role\": \"user\",\n",
    "            \"content\": f\"Context: {formatted_docs} \\n\\n Question: {question}\"\n",
    "        }\n",
    "    ]\n",
    "    return call_openai(messages)\n",
    "\n",
    "@traceable(run_type=\"llm\")\n",
    "def call_openai(\n",
    "    messages: List[dict], model: str = \"gpt-4o-mini\", temperature: float = 0.0\n",
    ") -> str:\n",
    "    return openai_client.chat.completions.create(\n",
    "        model=model,\n",
    "        messages=messages,\n",
    "        temperature=temperature,\n",
    "    )\n",
    "\n",
    "@traceable(run_type=\"chain\")\n",
    "def langsmith_rag(question: str):\n",
    "    documents = retrieve_documents(question)\n",
    "    response = generate_response(question, documents)\n",
    "    return response.choices[0].message.content\n"
   ]
  },
  {
   "cell_type": "markdown",
   "metadata": {},
   "source": [
    "### Now let's run our application twice with this thread_id"
   ]
  },
  {
   "cell_type": "code",
   "execution_count": 5,
   "metadata": {},
   "outputs": [
    {
     "name": "stderr",
     "output_type": "stream",
     "text": [
      "/home/arnav/miniconda3/envs/llm/lib/python3.13/site-packages/langsmith/client.py:272: LangSmithMissingAPIKeyWarning: API key must be provided when using hosted LangSmith API\n",
      "  warnings.warn(\n",
      "Failed to multipart ingest runs: langsmith.utils.LangSmithAuthError: Authentication failed for https://api.smith.langchain.com/runs/multipart. HTTPError('401 Client Error: Unauthorized for url: https://api.smith.langchain.com/runs/multipart', '{\"error\":\"Unauthorized\"}\\n')trace=0471bdad-db2a-4beb-bbd7-2f287716d641,id=0471bdad-db2a-4beb-bbd7-2f287716d641; trace=0471bdad-db2a-4beb-bbd7-2f287716d641,id=24e49215-fb0e-4b98-9868-ef065596b996; trace=0471bdad-db2a-4beb-bbd7-2f287716d641,id=5ad0b753-58cf-4a81-a236-aff9792b8a93\n",
      "Failed to send compressed multipart ingest: langsmith.utils.LangSmithAuthError: Authentication failed for https://api.smith.langchain.com/runs/multipart. HTTPError('401 Client Error: Unauthorized for url: https://api.smith.langchain.com/runs/multipart', '{\"error\":\"Unauthorized\"}\\n')trace=0471bdad-db2a-4beb-bbd7-2f287716d641,id=5ad0b753-58cf-4a81-a236-aff9792b8a93; trace=0471bdad-db2a-4beb-bbd7-2f287716d641,id=24e49215-fb0e-4b98-9868-ef065596b996; trace=0471bdad-db2a-4beb-bbd7-2f287716d641,id=c3894e8d-3c5f-4451-86e8-b02051464b2c; trace=0471bdad-db2a-4beb-bbd7-2f287716d641,id=b92ae3e5-cff5-4c7d-8c8d-ad9dfafc92d6\n"
     ]
    },
    {
     "name": "stdout",
     "output_type": "stream",
     "text": [
      "To add metadata to a trace in LangSmith, you need to include a dictionary of key-value pairs when creating the trace. This metadata can store additional information about the trace, such as the environment or user details. Ensure that the same metadata is also attached to the corresponding run for better tracking.\n"
     ]
    },
    {
     "name": "stderr",
     "output_type": "stream",
     "text": [
      "Failed to send compressed multipart ingest: langsmith.utils.LangSmithAuthError: Authentication failed for https://api.smith.langchain.com/runs/multipart. HTTPError('401 Client Error: Unauthorized for url: https://api.smith.langchain.com/runs/multipart', '{\"error\":\"Unauthorized\"}\\n')trace=0471bdad-db2a-4beb-bbd7-2f287716d641,id=b92ae3e5-cff5-4c7d-8c8d-ad9dfafc92d6; trace=0471bdad-db2a-4beb-bbd7-2f287716d641,id=c3894e8d-3c5f-4451-86e8-b02051464b2c; trace=0471bdad-db2a-4beb-bbd7-2f287716d641,id=0471bdad-db2a-4beb-bbd7-2f287716d641; trace=73b66cad-ac04-4cec-a6ae-c176f9677c8f,id=73b66cad-ac04-4cec-a6ae-c176f9677c8f; trace=73b66cad-ac04-4cec-a6ae-c176f9677c8f,id=ada2a2f5-49c1-4893-ae96-ac7119635eff; trace=73b66cad-ac04-4cec-a6ae-c176f9677c8f,id=a5236956-4e03-486d-a1a7-cc253dea140f; trace=73b66cad-ac04-4cec-a6ae-c176f9677c8f,id=a5236956-4e03-486d-a1a7-cc253dea140f; trace=73b66cad-ac04-4cec-a6ae-c176f9677c8f,id=ada2a2f5-49c1-4893-ae96-ac7119635eff; trace=73b66cad-ac04-4cec-a6ae-c176f9677c8f,id=ea59149c-7cc7-49e2-8e18-7bdf1a3f8235; trace=73b66cad-ac04-4cec-a6ae-c176f9677c8f,id=8f11bd3c-da17-464c-8243-bf409970a50b\n",
      "Failed to send compressed multipart ingest: langsmith.utils.LangSmithAuthError: Authentication failed for https://api.smith.langchain.com/runs/multipart. HTTPError('401 Client Error: Unauthorized for url: https://api.smith.langchain.com/runs/multipart', '{\"error\":\"Unauthorized\"}\\n')trace=73b66cad-ac04-4cec-a6ae-c176f9677c8f,id=8f11bd3c-da17-464c-8243-bf409970a50b; trace=73b66cad-ac04-4cec-a6ae-c176f9677c8f,id=ea59149c-7cc7-49e2-8e18-7bdf1a3f8235; trace=73b66cad-ac04-4cec-a6ae-c176f9677c8f,id=73b66cad-ac04-4cec-a6ae-c176f9677c8f\n",
      "Failed to send compressed multipart ingest: langsmith.utils.LangSmithAuthError: Authentication failed for https://api.smith.langchain.com/runs/multipart. HTTPError('401 Client Error: Unauthorized for url: https://api.smith.langchain.com/runs/multipart', '{\"error\":\"Unauthorized\"}\\n')trace=c34d60e0-15e7-4ed5-ac9d-9e6d077b6fd5,id=c34d60e0-15e7-4ed5-ac9d-9e6d077b6fd5; trace=c34d60e0-15e7-4ed5-ac9d-9e6d077b6fd5,id=c35b15c5-ce56-43d8-a775-4064a598ef65; trace=c34d60e0-15e7-4ed5-ac9d-9e6d077b6fd5,id=1a68ebc1-2129-41d3-8e4f-f0819670bdbc\n",
      "Failed to send compressed multipart ingest: langsmith.utils.LangSmithAuthError: Authentication failed for https://api.smith.langchain.com/runs/multipart. HTTPError('401 Client Error: Unauthorized for url: https://api.smith.langchain.com/runs/multipart', '{\"error\":\"Unauthorized\"}\\n')trace=c34d60e0-15e7-4ed5-ac9d-9e6d077b6fd5,id=1a68ebc1-2129-41d3-8e4f-f0819670bdbc; trace=c34d60e0-15e7-4ed5-ac9d-9e6d077b6fd5,id=c35b15c5-ce56-43d8-a775-4064a598ef65; trace=c34d60e0-15e7-4ed5-ac9d-9e6d077b6fd5,id=306c786c-ec8d-411a-8407-79e9550cefcd; trace=c34d60e0-15e7-4ed5-ac9d-9e6d077b6fd5,id=a1122534-16a0-4805-84f5-4d0a1bad718e\n",
      "Failed to send compressed multipart ingest: langsmith.utils.LangSmithAuthError: Authentication failed for https://api.smith.langchain.com/runs/multipart. HTTPError('401 Client Error: Unauthorized for url: https://api.smith.langchain.com/runs/multipart', '{\"error\":\"Unauthorized\"}\\n')trace=c34d60e0-15e7-4ed5-ac9d-9e6d077b6fd5,id=a1122534-16a0-4805-84f5-4d0a1bad718e; trace=c34d60e0-15e7-4ed5-ac9d-9e6d077b6fd5,id=306c786c-ec8d-411a-8407-79e9550cefcd; trace=c34d60e0-15e7-4ed5-ac9d-9e6d077b6fd5,id=c34d60e0-15e7-4ed5-ac9d-9e6d077b6fd5\n",
      "Failed to send compressed multipart ingest: langsmith.utils.LangSmithAuthError: Authentication failed for https://api.smith.langchain.com/runs/multipart. HTTPError('401 Client Error: Unauthorized for url: https://api.smith.langchain.com/runs/multipart', '{\"error\":\"Unauthorized\"}\\n')trace=d2b76908-9338-4701-8fd6-79ec512bed92,id=d2b76908-9338-4701-8fd6-79ec512bed92; trace=d2b76908-9338-4701-8fd6-79ec512bed92,id=6d9bd89c-15db-41ac-a9a0-1b10b9c5c889; trace=d2b76908-9338-4701-8fd6-79ec512bed92,id=b32c6832-af3c-4d10-99ca-53ff3b192f20; trace=d2b76908-9338-4701-8fd6-79ec512bed92,id=b32c6832-af3c-4d10-99ca-53ff3b192f20; trace=d2b76908-9338-4701-8fd6-79ec512bed92,id=6d9bd89c-15db-41ac-a9a0-1b10b9c5c889; trace=d2b76908-9338-4701-8fd6-79ec512bed92,id=cff1d6ff-8eab-4271-b57a-173dcd930fb2; trace=d2b76908-9338-4701-8fd6-79ec512bed92,id=25e7ee16-484b-423f-9aee-0dc2073cfc49\n",
      "Failed to send compressed multipart ingest: langsmith.utils.LangSmithAuthError: Authentication failed for https://api.smith.langchain.com/runs/multipart. HTTPError('401 Client Error: Unauthorized for url: https://api.smith.langchain.com/runs/multipart', '{\"error\":\"Unauthorized\"}\\n')trace=d2b76908-9338-4701-8fd6-79ec512bed92,id=25e7ee16-484b-423f-9aee-0dc2073cfc49; trace=d2b76908-9338-4701-8fd6-79ec512bed92,id=cff1d6ff-8eab-4271-b57a-173dcd930fb2; trace=d2b76908-9338-4701-8fd6-79ec512bed92,id=d2b76908-9338-4701-8fd6-79ec512bed92\n"
     ]
    }
   ],
   "source": [
    "question = \"How do I add metadata to a Trace?\"\n",
    "ai_answer = langsmith_rag(question, langsmith_extra={\"metadata\": {\"thread_id\": thread_id}})\n",
    "print(ai_answer)"
   ]
  },
  {
   "cell_type": "code",
   "execution_count": 6,
   "metadata": {},
   "outputs": [
    {
     "name": "stdout",
     "output_type": "stream",
     "text": [
      "You can add tags to a trace in LangSmith by sending arbitrary metadata and tags along with the trace. Tags are strings used to categorize or label the trace, while metadata is a dictionary of key-value pairs for additional information. For detailed instructions, refer to the documentation on adding metadata and tags to traces.\n"
     ]
    }
   ],
   "source": [
    "question = \"How can I add tags to a Trace?\"\n",
    "ai_answer = langsmith_rag(question, langsmith_extra={\"metadata\": {\"thread_id\": thread_id}})\n",
    "print(ai_answer)"
   ]
  },
  {
   "cell_type": "code",
   "execution_count": 7,
   "metadata": {},
   "outputs": [
    {
     "name": "stdout",
     "output_type": "stream",
     "text": [
      "The `@traceable` decorator is used to mark specific functions for tracing, allowing you to log traces for those functions, while `wrap_openai` is a method that wraps the OpenAI client to automatically log traces without needing to modify the function code. Both can be used together in the same application, but `wrap_openai` simplifies the tracing process for OpenAI API calls. Essentially, `wrap_openai` provides a more seamless integration for tracing OpenAI interactions.\n"
     ]
    }
   ],
   "source": [
    "question = \"What's the difference between @traceable and wrap_openai?\"\n",
    "ai_answer = langsmith_rag(question, langsmith_extra={\"metadata\": {\"thread_id\": thread_id}})\n",
    "print(ai_answer)"
   ]
  },
  {
   "cell_type": "code",
   "execution_count": 8,
   "metadata": {},
   "outputs": [
    {
     "name": "stdout",
     "output_type": "stream",
     "text": [
      "To use RunTree for custom tracing hierarchies, you need to implement your own tracing logic that organizes runs into a tree structure. Each run can be a node in the tree, allowing you to represent the relationships and sequence of operations in your application. Ensure that your implementation adheres to the expected input and output formats recognized by LangSmith for proper logging and visualization.\n"
     ]
    }
   ],
   "source": [
    "# Question 8: Advanced features\n",
    "question = \"How do I use RunTree for custom tracing hierarchies?\"\n",
    "ai_answer = langsmith_rag(question, langsmith_extra={\"metadata\": {\"thread_id\": thread_id}})\n",
    "print(ai_answer)"
   ]
  },
  {
   "cell_type": "code",
   "execution_count": null,
   "metadata": {},
   "outputs": [],
   "source": []
  }
 ],
 "metadata": {
  "kernelspec": {
   "display_name": "llm",
   "language": "python",
   "name": "python3"
  },
  "language_info": {
   "codemirror_mode": {
    "name": "ipython",
    "version": 3
   },
   "file_extension": ".py",
   "mimetype": "text/x-python",
   "name": "python",
   "nbconvert_exporter": "python",
   "pygments_lexer": "ipython3",
   "version": "3.13.5"
  }
 },
 "nbformat": 4,
 "nbformat_minor": 4
}

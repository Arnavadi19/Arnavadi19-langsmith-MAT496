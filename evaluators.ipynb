{
 "cells": [
  {
   "cell_type": "markdown",
   "metadata": {},
   "source": [
    "# Evaluators"
   ]
  },
  {
   "cell_type": "markdown",
   "metadata": {},
   "source": [
    "At a high-level, an evaluator judges an invocation of your LLM application against a reference example, and returns an evaluation score.\n",
    "\n",
    "In LangSmith evaluators, we represent this process as a function that takes in a Run (representing the LLM app invocation) and an Example (representing the data point to evaluate), and returns Feedback (representing the evaluator's score of the LLM app invocation)."
   ]
  },
  {
   "cell_type": "markdown",
   "metadata": {},
   "source": [
    "Here is an example of a very simple custom evaluator that compares the output of a model to the expected output in the dataset:"
   ]
  },
  {
   "cell_type": "code",
   "execution_count": 1,
   "metadata": {},
   "outputs": [],
   "source": [
    "from langsmith.schemas import Example, Run\n",
    "\n",
    "def correct_label(inputs: dict, reference_outputs: dict, outputs: dict) -> dict:\n",
    "  score = outputs.get(\"output\") == reference_outputs.get(\"label\")\n",
    "  return {\"score\": int(score), \"key\": \"correct_label\"}"
   ]
  },
  {
   "cell_type": "markdown",
   "metadata": {},
   "source": [
    "### LLM-as-Judge Evaluation"
   ]
  },
  {
   "cell_type": "markdown",
   "metadata": {},
   "source": [
    "LLM-as-judge evaluators use LLMs to score system output. To use them, you typically encode the grading rules / criteria in the LLM prompt. They can be reference-free (e.g., check if system output contains offensive content or adheres to specific criteria). Or, they can compare task output to a reference (e.g., check if the output is factually accurate relative to the reference).\n",
    "\n",
    "Here is an example of how you might define an LLM-as-judge evaluator with structured output"
   ]
  },
  {
   "cell_type": "code",
   "execution_count": null,
   "metadata": {},
   "outputs": [],
   "source": [
    "# You can set them inline\n",
    "import os\n",
    "os.environ[\"OPENAI_API_KEY\"] = \"\""
   ]
  },
  {
   "cell_type": "code",
   "execution_count": 2,
   "metadata": {},
   "outputs": [
    {
     "data": {
      "text/plain": [
       "True"
      ]
     },
     "execution_count": 2,
     "metadata": {},
     "output_type": "execute_result"
    }
   ],
   "source": [
    "# Or you can use a .env file\n",
    "from dotenv import load_dotenv\n",
    "load_dotenv(dotenv_path=\".env\", override=True)"
   ]
  },
  {
   "cell_type": "code",
   "execution_count": 3,
   "metadata": {},
   "outputs": [],
   "source": [
    "from openai import OpenAI\n",
    "from pydantic import BaseModel, Field\n",
    "\n",
    "client = OpenAI()\n",
    "\n",
    "class Similarity_Score(BaseModel):\n",
    "    similarity_score: int = Field(description=\"Semantic similarity score between 1 and 10, where 1 means unrelated and 10 means identical.\")\n",
    "\n",
    "# NOTE: This is our evaluator\n",
    "def compare_semantic_similarity(inputs: dict, reference_outputs: dict, outputs: dict):\n",
    "    input_question = inputs[\"question\"]\n",
    "    reference_response = reference_outputs[\"output\"]\n",
    "    run_response = outputs[\"output\"]\n",
    "    \n",
    "    completion = client.beta.chat.completions.parse(\n",
    "        model=\"gpt-4o\",\n",
    "        messages=[\n",
    "            {   \n",
    "                \"role\": \"system\",\n",
    "                \"content\": (\n",
    "                    \"You are a semantic similarity evaluator. Compare the meanings of two responses to a question, \"\n",
    "                    \"Reference Response and New Response, where the reference is the correct answer, and we are trying to judge if the new response is similar. \"\n",
    "                    \"Provide a score between 1 and 10, where 1 means completely unrelated, and 10 means identical in meaning.\"\n",
    "                ),\n",
    "            },\n",
    "            {\"role\": \"user\", \"content\": f\"Question: {input_question}\\n Reference Response: {reference_response}\\n Run Response: {run_response}\"}\n",
    "        ],\n",
    "        response_format=Similarity_Score,\n",
    "    )\n",
    "\n",
    "    similarity_score = completion.choices[0].message.parsed\n",
    "    return {\"score\": similarity_score.similarity_score, \"key\": \"similarity\"}\n"
   ]
  },
  {
   "cell_type": "markdown",
   "metadata": {},
   "source": [
    "Let's try this out!\n",
    "\n",
    "NOTE: We purposely made this answer wrong, so we expect to see a low score."
   ]
  },
  {
   "cell_type": "code",
   "execution_count": 4,
   "metadata": {},
   "outputs": [
    {
     "name": "stdout",
     "output_type": "stream",
     "text": [
      "Semantic similarity score: {'score': 1, 'key': 'similarity'}\n"
     ]
    }
   ],
   "source": [
    "# From Dataset Example\n",
    "inputs = {\n",
    "  \"question\": \"Is LangSmith natively integrated with LangChain?\"\n",
    "}\n",
    "reference_outputs = {\n",
    "  \"output\": \"Yes, LangSmith is natively integrated with LangChain, as well as LangGraph.\"\n",
    "}\n",
    "\n",
    "\n",
    "# From Run\n",
    "outputs = {\n",
    "  \"output\": \"No, LangSmith is NOT integrated with LangChain.\"\n",
    "}\n",
    "\n",
    "similarity_score = compare_semantic_similarity(inputs, reference_outputs, outputs)\n",
    "print(f\"Semantic similarity score: {similarity_score}\")"
   ]
  },
  {
   "cell_type": "markdown",
   "metadata": {},
   "source": [
    "You can also define evaluators using Run and Example directly!"
   ]
  },
  {
   "cell_type": "code",
   "execution_count": 5,
   "metadata": {},
   "outputs": [],
   "source": [
    "from langsmith.schemas import Run, Example\n",
    "\n",
    "def compare_semantic_similarity_v2(root_run: Run, example: Example):\n",
    "    input_question = example[\"inputs\"][\"question\"]\n",
    "    reference_response = example[\"outputs\"][\"output\"]\n",
    "    run_response = root_run[\"outputs\"][\"output\"]\n",
    "    \n",
    "    completion = client.beta.chat.completions.parse(\n",
    "        model=\"gpt-4o\",\n",
    "        messages=[\n",
    "            {   \n",
    "                \"role\": \"system\",\n",
    "                \"content\": (\n",
    "                    \"You are a semantic similarity evaluator. Compare the meanings of two responses to a question, \"\n",
    "                    \"Reference Response and New Response, where the reference is the correct answer, and we are trying to judge if the new response is similar. \"\n",
    "                    \"Provide a score between 1 and 10, where 1 means completely unrelated, and 10 means identical in meaning.\"\n",
    "                ),\n",
    "            },\n",
    "            {\"role\": \"user\", \"content\": f\"Question: {input_question}\\n Reference Response: {reference_response}\\n Run Response: {run_response}\"}\n",
    "        ],\n",
    "        response_format=Similarity_Score,\n",
    "    )\n",
    "\n",
    "    similarity_score = completion.choices[0].message.parsed\n",
    "    return {\"score\": similarity_score.similarity_score, \"key\": \"similarity\"}"
   ]
  },
  {
   "cell_type": "code",
   "execution_count": 6,
   "metadata": {},
   "outputs": [
    {
     "name": "stdout",
     "output_type": "stream",
     "text": [
      "Semantic similarity score: {'score': 1, 'key': 'similarity'}\n"
     ]
    }
   ],
   "source": [
    "sample_run = {\n",
    "  \"name\": \"Sample Run\",\n",
    "  \"inputs\": {\n",
    "    \"question\": \"Is LangSmith natively integrated with LangChain?\"\n",
    "  },\n",
    "  \"outputs\": {\n",
    "    \"output\": \"No, LangSmith is NOT integrated with LangChain.\"\n",
    "  },\n",
    "  \"is_root\": True,\n",
    "  \"status\": \"success\",\n",
    "  \"extra\": {\n",
    "    \"metadata\": {\n",
    "      \"key\": \"value\"\n",
    "    }\n",
    "  }\n",
    "}\n",
    "\n",
    "sample_example = {\n",
    "  \"inputs\": {\n",
    "    \"question\": \"Is LangSmith natively integrated with LangChain?\"\n",
    "  },\n",
    "  \"outputs\": {\n",
    "    \"output\": \"Yes, LangSmith is natively integrated with LangChain, as well as LangGraph.\"\n",
    "  },\n",
    "  \"metadata\": {\n",
    "    \"dataset_split\": [\n",
    "      \"AI generated\",\n",
    "      \"base\"\n",
    "    ]\n",
    "  }\n",
    "}\n",
    "\n",
    "similarity_score = compare_semantic_similarity_v2(sample_run, sample_example)\n",
    "print(f\"Semantic similarity score: {similarity_score}\")"
   ]
  },
  {
   "cell_type": "code",
   "execution_count": 7,
   "metadata": {},
   "outputs": [
    {
     "name": "stdout",
     "output_type": "stream",
     "text": [
      "Testing with correct answer:\n",
      "Semantic similarity: 9/10\n",
      "Length check: 1.0\n",
      "Term coverage: 0.6\n",
      "Yes/No match: 1.0\n",
      "Average: 0.88\n",
      "\n",
      "Testing with wrong answer:\n",
      "Semantic similarity: 2/10\n",
      "Length check: 1.0\n",
      "Term coverage: 0.4\n",
      "Yes/No match: 0.0\n",
      "Average: 0.40\n"
     ]
    }
   ],
   "source": [
    "from openai import OpenAI\n",
    "from pydantic import BaseModel, Field\n",
    "\n",
    "client = OpenAI()\n",
    "\n",
    "# Evaluator 1: Check response length\n",
    "def evaluate_length(inputs: dict, reference_outputs: dict, outputs: dict) -> dict:\n",
    "    ref_length = len(reference_outputs[\"output\"].split())\n",
    "    output_length = len(outputs[\"output\"].split())\n",
    "    \n",
    "    ratio = output_length / ref_length if ref_length > 0 else 0\n",
    "    score = 1.0 if 0.5 <= ratio <= 1.5 else max(0, 1.0 - abs(1 - ratio))\n",
    "    \n",
    "    return {\"score\": round(score, 2), \"key\": \"length_check\"}\n",
    "\n",
    "# Evaluator 2: Check for key terms\n",
    "def evaluate_key_terms(inputs: dict, reference_outputs: dict, outputs: dict) -> dict:\n",
    "    ref_terms = set(word for word in reference_outputs[\"output\"].split() \n",
    "                   if word[0].isupper() or len(word) > 8)\n",
    "    output_terms = set(word for word in outputs[\"output\"].split() \n",
    "                      if word[0].isupper() or len(word) > 8)\n",
    "    \n",
    "    if not ref_terms:\n",
    "        return {\"score\": 1.0, \"key\": \"term_coverage\"}\n",
    "    \n",
    "    coverage = len(ref_terms & output_terms) / len(ref_terms)\n",
    "    return {\"score\": round(coverage, 2), \"key\": \"term_coverage\"}\n",
    "\n",
    "# Evaluator 3: Yes/No consistency\n",
    "def evaluate_yes_no(inputs: dict, reference_outputs: dict, outputs: dict) -> dict:\n",
    "    ref_text = reference_outputs[\"output\"].lower()\n",
    "    output_text = outputs[\"output\"].lower()\n",
    "    \n",
    "    ref_yes = any(w in ref_text[:50] for w in [\"yes\", \"correct\", \"true\"])\n",
    "    ref_no = any(w in ref_text[:50] for w in [\"no\", \"not\", \"incorrect\"])\n",
    "    \n",
    "    out_yes = any(w in output_text[:50] for w in [\"yes\", \"correct\", \"true\"])\n",
    "    out_no = any(w in output_text[:50] for w in [\"no\", \"not\", \"incorrect\"])\n",
    "    \n",
    "    if (ref_yes and out_yes) or (ref_no and out_no):\n",
    "        score = 1.0\n",
    "    elif (ref_yes and out_no) or (ref_no and out_yes):\n",
    "        score = 0.0\n",
    "    else:\n",
    "        score = 0.5\n",
    "    \n",
    "    return {\"score\": score, \"key\": \"yes_no_match\"}\n",
    "\n",
    "# Test all evaluators\n",
    "test_inputs = {\"question\": \"Is LangSmith natively integrated with LangChain?\"}\n",
    "test_reference = {\"output\": \"Yes, LangSmith is natively integrated with LangChain, as well as LangGraph.\"}\n",
    "test_correct = {\"output\": \"Yes, LangSmith has native integration with both LangChain and LangGraph.\"}\n",
    "test_wrong = {\"output\": \"No, LangSmith is NOT integrated with LangChain.\"}\n",
    "\n",
    "print(\"Testing with correct answer:\")\n",
    "e1 = compare_semantic_similarity(test_inputs, test_reference, test_correct)\n",
    "e2 = evaluate_length(test_inputs, test_reference, test_correct)\n",
    "e3 = evaluate_key_terms(test_inputs, test_reference, test_correct)\n",
    "e4 = evaluate_yes_no(test_inputs, test_reference, test_correct)\n",
    "\n",
    "print(f\"Semantic similarity: {e1['score']}/10\")\n",
    "print(f\"Length check: {e2['score']}\")\n",
    "print(f\"Term coverage: {e3['score']}\")\n",
    "print(f\"Yes/No match: {e4['score']}\")\n",
    "avg_correct = (e1['score']/10 + e2['score'] + e3['score'] + e4['score']) / 4\n",
    "print(f\"Average: {avg_correct:.2f}\\n\")\n",
    "\n",
    "print(\"Testing with wrong answer:\")\n",
    "e1 = compare_semantic_similarity(test_inputs, test_reference, test_wrong)\n",
    "e2 = evaluate_length(test_inputs, test_reference, test_wrong)\n",
    "e3 = evaluate_key_terms(test_inputs, test_reference, test_wrong)\n",
    "e4 = evaluate_yes_no(test_inputs, test_reference, test_wrong)\n",
    "\n",
    "print(f\"Semantic similarity: {e1['score']}/10\")\n",
    "print(f\"Length check: {e2['score']}\")\n",
    "print(f\"Term coverage: {e3['score']}\")\n",
    "print(f\"Yes/No match: {e4['score']}\")\n",
    "avg_wrong = (e1['score']/10 + e2['score'] + e3['score'] + e4['score']) / 4\n",
    "print(f\"Average: {avg_wrong:.2f}\")"
   ]
  },
  {
   "cell_type": "code",
   "execution_count": null,
   "metadata": {},
   "outputs": [],
   "source": []
  }
 ],
 "metadata": {
  "kernelspec": {
   "display_name": "llm",
   "language": "python",
   "name": "python3"
  },
  "language_info": {
   "codemirror_mode": {
    "name": "ipython",
    "version": 3
   },
   "file_extension": ".py",
   "mimetype": "text/x-python",
   "name": "python",
   "nbconvert_exporter": "python",
   "pygments_lexer": "ipython3",
   "version": "3.13.5"
  }
 },
 "nbformat": 4,
 "nbformat_minor": 4
}
